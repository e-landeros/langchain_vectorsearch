{
 "cells": [
  {
   "cell_type": "code",
   "execution_count": 1,
   "metadata": {},
   "outputs": [],
   "source": [
    "from langchain_community.document_loaders.pdf import PyPDFLoader\n",
    "from langchain_experimental.text_splitter import SemanticChunker\n",
    "from langchain_community.vectorstores.pgvector import PGVector\n",
    "from langchain_openai import OpenAIEmbeddings\n",
    "from dotenv import load_dotenv\n"
   ]
  },
  {
   "cell_type": "code",
   "execution_count": 2,
   "metadata": {},
   "outputs": [
    {
     "data": {
      "text/plain": [
       "True"
      ]
     },
     "execution_count": 2,
     "metadata": {},
     "output_type": "execute_result"
    }
   ],
   "source": [
    "load_dotenv()"
   ]
  },
  {
   "cell_type": "code",
   "execution_count": 3,
   "metadata": {},
   "outputs": [],
   "source": [
    "loader = PyPDFLoader(\"./biden.pdf\")\n",
    "documents = loader.load()\n",
    "\n",
    "\n"
   ]
  },
  {
   "cell_type": "code",
   "execution_count": 4,
   "metadata": {},
   "outputs": [],
   "source": [
    "embeddings = OpenAIEmbeddings()"
   ]
  },
  {
   "cell_type": "code",
   "execution_count": 5,
   "metadata": {},
   "outputs": [],
   "source": [
    "text_splitter = SemanticChunker(embeddings)\n",
    "docs = text_splitter.split_documents(documents)"
   ]
  },
  {
   "cell_type": "code",
   "execution_count": 6,
   "metadata": {},
   "outputs": [
    {
     "data": {
      "text/plain": [
       "[Document(page_content='2/7/24, 8:43 PM Statement from President Joe Biden on Early Student Debt Cancellation for Borrowers Enrolled in SAVE | The White House\\nhttps://www.whitehouse.gov/brieﬁng-room/statements-releases/2024/01/12/statement-from-president-joe-biden-on-early-student-debt-cancellation-for-borrowers-enr… 1/2JAN UAR Y 12, 2024\\nStatement from President Joe\\xa0Biden on Early\\nStudent Debt Cancellation for Borrowers\\nEnrolled in\\xa0SAVE\\nFrom Day One of my Administration, I vowed to ﬁx the student loan system\\nand make sure higher education is a pathway to the middle class – not a\\nbarrier to opportunity. Already, my Administration has cancelled student\\ndebt for 3.6 million Americans through various actions – delivering\\nlifechanging relief to students and families, and we created the most\\naﬀordable student loan repayment plan ever: the SAVE plan. I am proud that my Administration is implementing one of the most\\nimpactful provisions of the SAVE plan nearly six months ahead of schedule. Starting next month, borrowers enrolled in SAVE who took out less than\\n$12,000 in loans and have been in repayment for 10 years will get their\\nremaining student debt cancelled immediately. This action will particularly\\nhelp community college borrowers, low-income borrowers, and those\\nstruggling to repay their loans. And, it’s part of our ongoing eﬀorts to act as\\nquickly as possible to give more borrowers breathing room so they can get\\nout from under the burden of student loan debt, move on with their lives and\\npursue their dreams. I encourage all borrowers who may be eligible for early debt cancellation to\\nsign up for the SAVE plan at studentaid.gov. Already, 6.9 million borrowers\\nare enrolled in the plan, and 3.9 million have a $0 monthly payment.', metadata={'source': './biden.pdf', 'page': 0}),\n",
       " Document(page_content='Today’s announcement builds on all we’ve been able to achieve for students\\nand student loan borrowers in the past few years. This includes: ﬁxing the\\nPublic Service Loan Forgiveness program so that borrowers who go into\\npublic service get the debt relief they’re entitled to under the law; achieving\\nthe largest increases in Pell Grants in over a decade to help families who earn\\nless than roughly $60,000 a year; and holding colleges accountable for\\nleaving students with unaﬀordable debts. And, in the wake of the Supreme', metadata={'source': './biden.pdf', 'page': 0}),\n",
       " Document(page_content='2/7/24, 8:43 PM Statement from President Joe Biden on Early Student Debt Cancellation for Borrowers Enrolled in SAVE | The White House\\nhttps://www.whitehouse.gov/brieﬁng-room/statements-releases/2024/01/12/statement-from-president-joe-biden-on-early-student-debt-cancellation-for-borrowers-enr… 2/2Court’s decision on our student debt relief plan, we are continuing to pursue\\nan alternative path to deliver student debt relief to as many borrowers as\\npossible as quickly as possible. I won’t back down from using every tool at\\nour disposal to get student loan borrowers the relief they need to reach their\\ndreams.', metadata={'source': './biden.pdf', 'page': 1}),\n",
       " Document(page_content='###', metadata={'source': './biden.pdf', 'page': 1})]"
      ]
     },
     "execution_count": 6,
     "metadata": {},
     "output_type": "execute_result"
    }
   ],
   "source": [
    "docs"
   ]
  },
  {
   "cell_type": "code",
   "execution_count": 9,
   "metadata": {},
   "outputs": [],
   "source": [
    "CONNECTION_STRING = \"postgresql+psycopg2://@localhost:5432/tester_rag\""
   ]
  },
  {
   "cell_type": "code",
   "execution_count": 10,
   "metadata": {},
   "outputs": [],
   "source": [
    "COLLECTION_NAME = \"biden_studentloan\"\n",
    "\n",
    "db = PGVector.from_documents(\n",
    "    embedding=embeddings,\n",
    "    documents=docs,\n",
    "    collection_name=COLLECTION_NAME,\n",
    "    connection_string=CONNECTION_STRING,\n",
    ")"
   ]
  },
  {
   "cell_type": "code",
   "execution_count": 15,
   "metadata": {},
   "outputs": [],
   "source": [
    "query = \"Will we cancel student loan debt?\"\n",
    "docs_with_score = db.similarity_search_with_score(query)"
   ]
  },
  {
   "cell_type": "code",
   "execution_count": 16,
   "metadata": {},
   "outputs": [
    {
     "name": "stdout",
     "output_type": "stream",
     "text": [
      "--------------------------------------------------------------------------------\n",
      "Score:  0.13901053121771534\n",
      "2/7/24, 8:43 PM Statement from President Joe Biden on Early Student Debt Cancellation for Borrowers Enrolled in SAVE | The White House\n",
      "https://www.whitehouse.gov/brieﬁng-room/statements-releases/2024/01/12/statement-from-president-joe-biden-on-early-student-debt-cancellation-for-borrowers-enr… 2/2Court’s decision on our student debt relief plan, we are continuing to pursue\n",
      "an alternative path to deliver student debt relief to as many borrowers as\n",
      "possible as quickly as possible. I won’t back down from using every tool at\n",
      "our disposal to get student loan borrowers the relief they need to reach their\n",
      "dreams.\n",
      "--------------------------------------------------------------------------------\n",
      "--------------------------------------------------------------------------------\n",
      "Score:  0.1407938167074727\n",
      "2/7/24, 8:43 PM Statement from President Joe Biden on Early Student Debt Cancellation for Borrowers Enrolled in SAVE | The White House\n",
      "https://www.whitehouse.gov/brieﬁng-room/statements-releases/2024/01/12/statement-from-president-joe-biden-on-early-student-debt-cancellation-for-borrowers-enr… 1/2JAN UAR Y 12, 2024\n",
      "Statement from President Joe Biden on Early\n",
      "Student Debt Cancellation for Borrowers\n",
      "Enrolled in SAVE\n",
      "From Day One of my Administration, I vowed to ﬁx the student loan system\n",
      "and make sure higher education is a pathway to the middle class – not a\n",
      "barrier to opportunity. Already, my Administration has cancelled student\n",
      "debt for 3.6 million Americans through various actions – delivering\n",
      "lifechanging relief to students and families, and we created the most\n",
      "aﬀordable student loan repayment plan ever: the SAVE plan. I am proud that my Administration is implementing one of the most\n",
      "impactful provisions of the SAVE plan nearly six months ahead of schedule. Starting next month, borrowers enrolled in SAVE who took out less than\n",
      "$12,000 in loans and have been in repayment for 10 years will get their\n",
      "remaining student debt cancelled immediately. This action will particularly\n",
      "help community college borrowers, low-income borrowers, and those\n",
      "struggling to repay their loans. And, it’s part of our ongoing eﬀorts to act as\n",
      "quickly as possible to give more borrowers breathing room so they can get\n",
      "out from under the burden of student loan debt, move on with their lives and\n",
      "pursue their dreams. I encourage all borrowers who may be eligible for early debt cancellation to\n",
      "sign up for the SAVE plan at studentaid.gov. Already, 6.9 million borrowers\n",
      "are enrolled in the plan, and 3.9 million have a $0 monthly payment.\n",
      "--------------------------------------------------------------------------------\n",
      "--------------------------------------------------------------------------------\n",
      "Score:  0.15976237756897838\n",
      "Today’s announcement builds on all we’ve been able to achieve for students\n",
      "and student loan borrowers in the past few years. This includes: ﬁxing the\n",
      "Public Service Loan Forgiveness program so that borrowers who go into\n",
      "public service get the debt relief they’re entitled to under the law; achieving\n",
      "the largest increases in Pell Grants in over a decade to help families who earn\n",
      "less than roughly $60,000 a year; and holding colleges accountable for\n",
      "leaving students with unaﬀordable debts. And, in the wake of the Supreme\n",
      "--------------------------------------------------------------------------------\n",
      "--------------------------------------------------------------------------------\n",
      "Score:  0.2533844066076898\n",
      "###\n",
      "--------------------------------------------------------------------------------\n"
     ]
    }
   ],
   "source": [
    "for doc, score in docs_with_score:\n",
    "    print(\"-\" * 80)\n",
    "    print(\"Score: \", score)\n",
    "    print(doc.page_content)\n",
    "    print(\"-\" * 80)"
   ]
  },
  {
   "cell_type": "code",
   "execution_count": 17,
   "metadata": {},
   "outputs": [],
   "source": [
    "docs_with_score = db.max_marginal_relevance_search_with_score(query)"
   ]
  },
  {
   "cell_type": "code",
   "execution_count": 18,
   "metadata": {},
   "outputs": [
    {
     "name": "stdout",
     "output_type": "stream",
     "text": [
      "--------------------------------------------------------------------------------\n",
      "Score:  0.13906186739887116\n",
      "2/7/24, 8:43 PM Statement from President Joe Biden on Early Student Debt Cancellation for Borrowers Enrolled in SAVE | The White House\n",
      "https://www.whitehouse.gov/brieﬁng-room/statements-releases/2024/01/12/statement-from-president-joe-biden-on-early-student-debt-cancellation-for-borrowers-enr… 2/2Court’s decision on our student debt relief plan, we are continuing to pursue\n",
      "an alternative path to deliver student debt relief to as many borrowers as\n",
      "possible as quickly as possible. I won’t back down from using every tool at\n",
      "our disposal to get student loan borrowers the relief they need to reach their\n",
      "dreams.\n",
      "--------------------------------------------------------------------------------\n",
      "--------------------------------------------------------------------------------\n",
      "Score:  0.1408428285312915\n",
      "2/7/24, 8:43 PM Statement from President Joe Biden on Early Student Debt Cancellation for Borrowers Enrolled in SAVE | The White House\n",
      "https://www.whitehouse.gov/brieﬁng-room/statements-releases/2024/01/12/statement-from-president-joe-biden-on-early-student-debt-cancellation-for-borrowers-enr… 1/2JAN UAR Y 12, 2024\n",
      "Statement from President Joe Biden on Early\n",
      "Student Debt Cancellation for Borrowers\n",
      "Enrolled in SAVE\n",
      "From Day One of my Administration, I vowed to ﬁx the student loan system\n",
      "and make sure higher education is a pathway to the middle class – not a\n",
      "barrier to opportunity. Already, my Administration has cancelled student\n",
      "debt for 3.6 million Americans through various actions – delivering\n",
      "lifechanging relief to students and families, and we created the most\n",
      "aﬀordable student loan repayment plan ever: the SAVE plan. I am proud that my Administration is implementing one of the most\n",
      "impactful provisions of the SAVE plan nearly six months ahead of schedule. Starting next month, borrowers enrolled in SAVE who took out less than\n",
      "$12,000 in loans and have been in repayment for 10 years will get their\n",
      "remaining student debt cancelled immediately. This action will particularly\n",
      "help community college borrowers, low-income borrowers, and those\n",
      "struggling to repay their loans. And, it’s part of our ongoing eﬀorts to act as\n",
      "quickly as possible to give more borrowers breathing room so they can get\n",
      "out from under the burden of student loan debt, move on with their lives and\n",
      "pursue their dreams. I encourage all borrowers who may be eligible for early debt cancellation to\n",
      "sign up for the SAVE plan at studentaid.gov. Already, 6.9 million borrowers\n",
      "are enrolled in the plan, and 3.9 million have a $0 monthly payment.\n",
      "--------------------------------------------------------------------------------\n",
      "--------------------------------------------------------------------------------\n",
      "Score:  0.1598077557866905\n",
      "Today’s announcement builds on all we’ve been able to achieve for students\n",
      "and student loan borrowers in the past few years. This includes: ﬁxing the\n",
      "Public Service Loan Forgiveness program so that borrowers who go into\n",
      "public service get the debt relief they’re entitled to under the law; achieving\n",
      "the largest increases in Pell Grants in over a decade to help families who earn\n",
      "less than roughly $60,000 a year; and holding colleges accountable for\n",
      "leaving students with unaﬀordable debts. And, in the wake of the Supreme\n",
      "--------------------------------------------------------------------------------\n",
      "--------------------------------------------------------------------------------\n",
      "Score:  0.2534362332976745\n",
      "###\n",
      "--------------------------------------------------------------------------------\n"
     ]
    }
   ],
   "source": [
    "for doc, score in docs_with_score:\n",
    "    print(\"-\" * 80)\n",
    "    print(\"Score: \", score)\n",
    "    print(doc.page_content)\n",
    "    print(\"-\" * 80)"
   ]
  },
  {
   "cell_type": "markdown",
   "metadata": {},
   "source": [
    "### Handling more connections to DB "
   ]
  },
  {
   "cell_type": "code",
   "execution_count": 19,
   "metadata": {},
   "outputs": [],
   "source": [
    "store = PGVector(\n",
    "    collection_name=COLLECTION_NAME,\n",
    "    connection_string=CONNECTION_STRING,\n",
    "    embedding_function=embeddings,\n",
    ")"
   ]
  },
  {
   "cell_type": "code",
   "execution_count": null,
   "metadata": {},
   "outputs": [],
   "source": [
    "# store.add_documents([Document(page_content=\"foo\")])"
   ]
  }
 ],
 "metadata": {
  "kernelspec": {
   "display_name": ".venv",
   "language": "python",
   "name": "python3"
  },
  "language_info": {
   "codemirror_mode": {
    "name": "ipython",
    "version": 3
   },
   "file_extension": ".py",
   "mimetype": "text/x-python",
   "name": "python",
   "nbconvert_exporter": "python",
   "pygments_lexer": "ipython3",
   "version": "3.10.12"
  }
 },
 "nbformat": 4,
 "nbformat_minor": 2
}
